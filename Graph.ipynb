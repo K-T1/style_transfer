{
 "cells": [
  {
   "cell_type": "code",
   "execution_count": 1,
   "metadata": {},
   "outputs": [],
   "source": [
    "import cv2\n",
    "import numpy as np\n",
    "from scipy.interpolate import interp1d\n",
    "import argparse\n",
    "from skimage import io\n",
    "import matplotlib.pyplot as plt"
   ]
  },
  {
   "cell_type": "code",
   "execution_count": 2,
   "metadata": {},
   "outputs": [],
   "source": [
    "s_path = './example/source.png'"
   ]
  },
  {
   "cell_type": "code",
   "execution_count": 3,
   "metadata": {},
   "outputs": [],
   "source": [
    "r_path = './example/ref.png'"
   ]
  },
  {
   "cell_type": "code",
   "execution_count": 4,
   "metadata": {},
   "outputs": [],
   "source": [
    "def est_cdf(X):\n",
    "    bins = np.arange(257)\n",
    "    y = np.histogram(X, bins, density=True)\n",
    "    cdf_hist = np.cumsum(y[0])\n",
    "    x_range = y[1][:256]\n",
    "    P = interp1d(x_range, cdf_hist)\n",
    "    return P"
   ]
  },
  {
   "cell_type": "code",
   "execution_count": 5,
   "metadata": {},
   "outputs": [],
   "source": [
    "def transfer(from_im, to_im):\n",
    "    # Get the cdf's for each array, as well as the inverse cdf for the from_im\n",
    "    F = est_cdf(to_im)\n",
    "    G = est_cdf(from_im)\n",
    "    G_inv = np.interp(F.y, G.y, G.x, left=0.0, right=1.0)\n",
    "\n",
    "    # Figure out how to map olf values to new values\n",
    "    mapping = {}\n",
    "    x_range = np.arange(256)\n",
    "    for n, i in enumerate(x_range):\n",
    "        val = F(i)\n",
    "        xj = G_inv[n]\n",
    "        xj = round(xj)\n",
    "        mapping[i] = xj\n",
    "\n",
    "    # Apply the mapping\n",
    "    v_map = np.vectorize(lambda x: mapping[x])\n",
    "    result = v_map(to_im)\n",
    "    return result "
   ]
  },
  {
   "cell_type": "code",
   "execution_count": 6,
   "metadata": {},
   "outputs": [],
   "source": [
    "def transfer_using_colorspace(source, reference, strength = 1.0):\n",
    "    from_im_cvt = cv2.cvtColor(reference, cv2.COLOR_BGR2LAB)\n",
    "    to_im_cvt = cv2.cvtColor(source, cv2.COLOR_BGR2LAB)\n",
    "    result = to_im_cvt.copy()\n",
    "    # Only apply histogram transfer in a and b channal\n",
    "    for i in [1,2]:\n",
    "        result[:,:,i] = transfer(from_im_cvt[:,:,i], to_im_cvt[:,:,i])\n",
    "        if(i == 1):\n",
    "            graph = result[:,:,i].copy()\n",
    "            bins = np.arange(257)\n",
    "            hist, hist_bin = np.histogram(graph, bins, density=True)\n",
    "            center = (hist_bin[:-1] + hist_bin[1:]) / 2\n",
    "            width = 0.7 * (hist_bin[1] - hist_bin[0])\n",
    "            plt.bar(center, hist, align='center', width=width)\n",
    "            plt.title('Adjust Histogram of reference alpha channal', fontsize=5)\n",
    "            plt.savefig(\"./result/figure_13_change_reference_image_histogram_alpha.png\", dpi=300)\n",
    "            plt.close()\n",
    "        else:\n",
    "            graph = result[:,:,i].copy()\n",
    "            bins = np.arange(257)\n",
    "            hist, hist_bin = np.histogram(graph, bins, density=True)\n",
    "            center = (hist_bin[:-1] + hist_bin[1:]) / 2\n",
    "            width = 0.7 * (hist_bin[1] - hist_bin[0])\n",
    "            plt.bar(center, hist, align='center', width=width)\n",
    "            plt.title('Adjust Histogram of reference beta channal', fontsize=5)\n",
    "            plt.savefig(\"./result/figure_14_reference_image_histogram_beta.png\", dpi=300)\n",
    "            plt.close()\n",
    "    return cv2.cvtColor(result, cv2.COLOR_LAB2BGR)*strength + source * (1 - strength)"
   ]
  },
  {
   "cell_type": "code",
   "execution_count": 7,
   "metadata": {},
   "outputs": [],
   "source": [
    "source = cv2.cvtColor(io.imread(s_path), cv2.COLOR_RGB2BGR)\n",
    "reference = cv2.cvtColor(io.imread(r_path), cv2.COLOR_RGB2BGR)\n",
    "\n",
    "result = transfer_using_colorspace(source, reference, strength = 0.8)"
   ]
  },
  {
   "cell_type": "code",
   "execution_count": null,
   "metadata": {},
   "outputs": [],
   "source": [
    "cv2.imwrite('./result/output.jpg', result)"
   ]
  }
 ],
 "metadata": {
  "kernelspec": {
   "display_name": "Python 3",
   "language": "python",
   "name": "python3"
  },
  "language_info": {
   "codemirror_mode": {
    "name": "ipython",
    "version": 3
   },
   "file_extension": ".py",
   "mimetype": "text/x-python",
   "name": "python",
   "nbconvert_exporter": "python",
   "pygments_lexer": "ipython3",
   "version": "3.7.3"
  }
 },
 "nbformat": 4,
 "nbformat_minor": 2
}
